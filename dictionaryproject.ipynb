{
 "cells": [
  {
   "cell_type": "markdown",
   "metadata": {},
   "source": [
    "### create a function\n"
   ]
  },
  {
   "cell_type": "code",
   "execution_count": 1,
   "metadata": {},
   "outputs": [
    {
     "name": "stdout",
     "output_type": "stream",
     "text": [
      "{'mean': [[4.0, 5.0, 6.0], [2.0, 5.0, 8.0], 5.0], 'var': [[6.0, 6.0, 6.0], [0.6666666666666666, 0.6666666666666666, 0.6666666666666666], 6.666666666666667], 'std': [[2.449489742783178, 2.449489742783178, 2.449489742783178], [0.816496580927726, 0.816496580927726, 0.816496580927726], 2.581988897471611], 'max': [[7, 8, 9], [3, 6, 9], 9], 'min': [[1, 2, 3], [1, 4, 7], 1], 'sum': [[12, 15, 18], [6, 15, 24], 45]}\n",
      "the project is finish\n"
     ]
    }
   ],
   "source": [
    "import numpy as np\n",
    "\n",
    "def calculate(liste):\n",
    "    if len(liste) != 9:\n",
    "        print(\"The list must contain exactly 9 numbers.\")\n",
    "        return\n",
    "    \n",
    "    flat = np.array(liste)\n",
    "    mat = flat.reshape((3, 3))\n",
    "    calculations = dict()\n",
    "    calculations[\"mean\"] = [list(np.mean(mat, axis=0)), list(np.mean(mat, axis=1)), np.mean(flat)]\n",
    "    calculations[\"var\"] = [list(np.var(mat, axis=0)), list(np.var(mat, axis=1)), np.var(flat)]\n",
    "    calculations[\"std\"] = [list(np.std(mat, axis=0)), list(np.std(mat, axis=1)), np.std(flat)]\n",
    "    calculations[\"max\"] = [list(np.max(mat, axis=0)), list(np.max(mat, axis=1)), np.max(flat)]\n",
    "    calculations[\"min\"] = [list(np.min(mat, axis=0)), list(np.min(mat, axis=1)), np.min(flat)]\n",
    "    calculations[\"sum\"] = [list(np.sum(mat, axis=0)), list(np.sum(mat, axis=1)), np.sum(flat)]\n",
    "    return calculations\n",
    "\n",
    "# Corrected list initialization\n",
    "result = [1, 2, 3, 4, 5, 6, 7, 8, 9]\n",
    "print(calculate(result))\n",
    "print(\"the project is finish\")"
   ]
  }
 ],
 "metadata": {
  "kernelspec": {
   "display_name": "Python 3",
   "language": "python",
   "name": "python3"
  },
  "language_info": {
   "codemirror_mode": {
    "name": "ipython",
    "version": 3
   },
   "file_extension": ".py",
   "mimetype": "text/x-python",
   "name": "python",
   "nbconvert_exporter": "python",
   "pygments_lexer": "ipython3",
   "version": "3.12.2"
  }
 },
 "nbformat": 4,
 "nbformat_minor": 2
}
